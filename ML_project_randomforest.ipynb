{
 "cells": [
  {
   "cell_type": "code",
   "execution_count": 1,
   "metadata": {
    "collapsed": true
   },
   "outputs": [],
   "source": [
    "import pandas as pd\n",
    "from sklearn.ensemble import RandomForestClassifier\n",
    "import matplotlib.pyplot as plt\n",
    "import matplotlib.pylab as plb\n",
    "import matplotlib as mpl\n",
    "from sklearn import metrics\n",
    "from sklearn.metrics import roc_curve, auc\n",
    "import numpy as np"
   ]
  },
  {
   "cell_type": "code",
   "execution_count": 2,
   "metadata": {},
   "outputs": [
    {
     "data": {
      "text/html": [
       "<div>\n",
       "<style>\n",
       "    .dataframe thead tr:only-child th {\n",
       "        text-align: right;\n",
       "    }\n",
       "\n",
       "    .dataframe thead th {\n",
       "        text-align: left;\n",
       "    }\n",
       "\n",
       "    .dataframe tbody tr th {\n",
       "        vertical-align: top;\n",
       "    }\n",
       "</style>\n",
       "<table border=\"1\" class=\"dataframe\">\n",
       "  <thead>\n",
       "    <tr style=\"text-align: right;\">\n",
       "      <th></th>\n",
       "      <th>satisfaction_level</th>\n",
       "      <th>last_evaluation</th>\n",
       "      <th>number_project</th>\n",
       "      <th>average_montly_hours</th>\n",
       "      <th>time_spend_company</th>\n",
       "      <th>Work_accident</th>\n",
       "      <th>left</th>\n",
       "      <th>promotion_last_5years</th>\n",
       "      <th>sales</th>\n",
       "      <th>salary</th>\n",
       "    </tr>\n",
       "  </thead>\n",
       "  <tbody>\n",
       "    <tr>\n",
       "      <th>0</th>\n",
       "      <td>0.38</td>\n",
       "      <td>0.53</td>\n",
       "      <td>2</td>\n",
       "      <td>157</td>\n",
       "      <td>3</td>\n",
       "      <td>0</td>\n",
       "      <td>1</td>\n",
       "      <td>0</td>\n",
       "      <td>sales</td>\n",
       "      <td>0</td>\n",
       "    </tr>\n",
       "    <tr>\n",
       "      <th>1</th>\n",
       "      <td>0.80</td>\n",
       "      <td>0.86</td>\n",
       "      <td>5</td>\n",
       "      <td>262</td>\n",
       "      <td>6</td>\n",
       "      <td>0</td>\n",
       "      <td>1</td>\n",
       "      <td>0</td>\n",
       "      <td>sales</td>\n",
       "      <td>1</td>\n",
       "    </tr>\n",
       "    <tr>\n",
       "      <th>2</th>\n",
       "      <td>0.11</td>\n",
       "      <td>0.88</td>\n",
       "      <td>7</td>\n",
       "      <td>272</td>\n",
       "      <td>4</td>\n",
       "      <td>0</td>\n",
       "      <td>1</td>\n",
       "      <td>0</td>\n",
       "      <td>sales</td>\n",
       "      <td>1</td>\n",
       "    </tr>\n",
       "    <tr>\n",
       "      <th>3</th>\n",
       "      <td>0.72</td>\n",
       "      <td>0.87</td>\n",
       "      <td>5</td>\n",
       "      <td>223</td>\n",
       "      <td>5</td>\n",
       "      <td>0</td>\n",
       "      <td>1</td>\n",
       "      <td>0</td>\n",
       "      <td>sales</td>\n",
       "      <td>0</td>\n",
       "    </tr>\n",
       "    <tr>\n",
       "      <th>4</th>\n",
       "      <td>0.37</td>\n",
       "      <td>0.52</td>\n",
       "      <td>2</td>\n",
       "      <td>159</td>\n",
       "      <td>3</td>\n",
       "      <td>0</td>\n",
       "      <td>1</td>\n",
       "      <td>0</td>\n",
       "      <td>sales</td>\n",
       "      <td>0</td>\n",
       "    </tr>\n",
       "  </tbody>\n",
       "</table>\n",
       "</div>"
      ],
      "text/plain": [
       "   satisfaction_level  last_evaluation  number_project  average_montly_hours  \\\n",
       "0                0.38             0.53               2                   157   \n",
       "1                0.80             0.86               5                   262   \n",
       "2                0.11             0.88               7                   272   \n",
       "3                0.72             0.87               5                   223   \n",
       "4                0.37             0.52               2                   159   \n",
       "\n",
       "   time_spend_company  Work_accident  left  promotion_last_5years  sales  \\\n",
       "0                   3              0     1                      0  sales   \n",
       "1                   6              0     1                      0  sales   \n",
       "2                   4              0     1                      0  sales   \n",
       "3                   5              0     1                      0  sales   \n",
       "4                   3              0     1                      0  sales   \n",
       "\n",
       "   salary  \n",
       "0       0  \n",
       "1       1  \n",
       "2       1  \n",
       "3       0  \n",
       "4       0  "
      ]
     },
     "execution_count": 2,
     "metadata": {},
     "output_type": "execute_result"
    }
   ],
   "source": [
    "data = pd.read_csv('HR_comma_sep.csv')\n",
    "data[\"salary\"] = data[\"salary\"].replace(['low' , 'medium' , 'high'] , [0 , 1 , 2])\n",
    "\n",
    "train=data.sample(frac=0.8,random_state=200)\n",
    "test = data.drop(train.index)\n",
    "data.head()"
   ]
  },
  {
   "cell_type": "code",
   "execution_count": 3,
   "metadata": {},
   "outputs": [
    {
     "name": "stderr",
     "output_type": "stream",
     "text": [
      "/anaconda3/lib/python3.6/site-packages/ipykernel_launcher.py:11: DataConversionWarning: A column-vector y was passed when a 1d array was expected. Please change the shape of y to (n_samples,), for example using ravel().\n",
      "  # This is added back by InteractiveShellApp.init_path()\n"
     ]
    },
    {
     "name": "stdout",
     "output_type": "stream",
     "text": [
      "Testing accuracy : 0.98\n",
      "Training accuracy : 0.983498624885\n",
      "Importance of feattures:\n",
      "'satisfaction_level :0.2939646730982466', 'last_evaluation : 0.1302923345005224', 'number_project: 0.2107434095155863','average_montly_hours: 0.14841883918801255', 'time_spend_company: 0.19661873452607467', 'Work_accident: 0.009268955262070555', 'promotion_last_5years: 0.0014297210817637946', 'salary: 0.009263332827723205'\n"
     ]
    }
   ],
   "source": [
    "traininput1 = train[['satisfaction_level', 'last_evaluation', 'number_project',\n",
    "       'average_montly_hours', 'time_spend_company', 'Work_accident',\n",
    "       'promotion_last_5years', 'salary']].values\n",
    "traintarget = train[[\"left\"]].values\n",
    "testinput1 = test[['satisfaction_level', 'last_evaluation', 'number_project',\n",
    "       'average_montly_hours', 'time_spend_company', 'Work_accident',\n",
    "       'promotion_last_5years', 'salary']].values\n",
    "testtarget = test[[\"left\"]].values\n",
    "\n",
    "forest = RandomForestClassifier(max_depth=10, min_samples_split=2, n_estimators = 100, random_state = 1)\n",
    "my_forest = forest.fit(traininput1,traintarget)\n",
    "print(\"Testing accuracy :\" , my_forest.score(testinput1 , testtarget))\n",
    "print(\"Training accuracy :\" , my_forest.score(traininput1, traintarget))\n",
    "\n",
    "features = list(my_forest.feature_importances_)\n",
    "print(\"Importance of feattures:\")\n",
    "print(\"'satisfaction_level :{f[0]}', 'last_evaluation : {f[1]}', 'number_project: {f[2]}','average_montly_hours: {f[3]}', 'time_spend_company: {f[4]}', 'Work_accident: {f[5]}', 'promotion_last_5years: {f[6]}', 'salary: {f[7]}'\".format(f = features))"
   ]
  },
  {
   "cell_type": "code",
   "execution_count": 4,
   "metadata": {},
   "outputs": [
    {
     "name": "stderr",
     "output_type": "stream",
     "text": [
      "/anaconda3/lib/python3.6/site-packages/ipykernel_launcher.py:10: DataConversionWarning: A column-vector y was passed when a 1d array was expected. Please change the shape of y to (n_samples,), for example using ravel().\n",
      "  # Remove the CWD from sys.path while we load stuff.\n"
     ]
    },
    {
     "name": "stdout",
     "output_type": "stream",
     "text": [
      "Testing accuracy : 0.983\n",
      "Training accuracy : 0.986748895741\n",
      "How important a feature is :\n",
      "'satisfaction_level :0.3699487992464509', 'last_evaluation : 0.11846830156561125', 'number_project: 0.1944667418926653','average_montly_hours: 0.1332653613973561','time_spend_company: 0.1838507958979165',\n"
     ]
    }
   ],
   "source": [
    "traininput2= train[['satisfaction_level', 'last_evaluation', 'number_project',\n",
    "       'average_montly_hours', 'time_spend_company'\n",
    "       ]].values\n",
    "testinput2= test[['satisfaction_level', 'last_evaluation', 'number_project',\n",
    "       'average_montly_hours', 'time_spend_company'\n",
    "       ]].values\n",
    "\n",
    "forest2 = RandomForestClassifier( max_depth=10 , min_samples_split=2, n_estimators = 100, random_state = 1)\n",
    "\n",
    "my_forest2 = forest2.fit(traininput2,traintarget)\n",
    "print(\"Testing accuracy :\" , my_forest2.score(testinput2 , testtarget))\n",
    "print(\"Training accuracy :\" , my_forest2.score(traininput2, traintarget))\n",
    "\n",
    "features1 =  list(my_forest2.feature_importances_)\n",
    "print(\"How important a feature is :\")\n",
    "print(\"'satisfaction_level :{f[0]}', 'last_evaluation : {f[1]}', 'number_project: {f[2]}','average_montly_hours: {f[3]}','time_spend_company: {f[4]}',\".format(f = features1))"
   ]
  },
  {
   "cell_type": "code",
   "execution_count": 5,
   "metadata": {},
   "outputs": [
    {
     "data": {
      "text/plain": [
       "Text(0.5,0,'Satisfaction level')"
      ]
     },
     "execution_count": 5,
     "metadata": {},
     "output_type": "execute_result"
    }
   ],
   "source": [
    "plt.figure(figsize = (18,8))\n",
    "plt.suptitle('Employees who left', fontsize=16)\n",
    "plt.subplot(1,4,1)\n",
    "plt.plot(data.satisfaction_level[data.left == 1],data.last_evaluation[data.left == 1],'o', alpha = 0.1)\n",
    "plt.ylabel('Last Evaluation')\n",
    "plt.title('Evaluation vs Satisfaction')\n",
    "plt.xlabel('Satisfaction level')\n",
    "\n",
    "plt.subplot(1,4,2)\n",
    "plt.plot(data.satisfaction_level[data.left == 1],data.average_montly_hours[data.left == 1],'o', alpha = 0.1 )\n",
    "plt.ylabel('Average Monthly Hours')\n",
    "plt.title('Average hours vs Satisfaction ')\n",
    "plt.xlabel('Satisfaction level')\n",
    "\n",
    "plt.subplot(1,4,3)\n",
    "plt.title('Salary vs Satisfaction ')\n",
    "plt.plot(data.satisfaction_level[data.left == 1],data.salary[data.left == 1],'o', alpha = 0.1)\n",
    "plt.xlim([0.4,1])\n",
    "plt.ylabel('salary ')\n",
    "plt.xlabel('Satisfaction level')\n",
    "\n",
    "plt.subplot(1,4,4)\n",
    "plt.title('Promotions vs Satisfaction ')\n",
    "plt.plot(data.satisfaction_level[data.left == 1],data.promotion_last_5years[data.left == 1],'o', alpha = 0.1)\n",
    "plt.xlim([0.4,1])\n",
    "plt.ylabel('Promotion last 5years')\n",
    "plt.xlabel('Satisfaction level')"
   ]
  },
  {
   "cell_type": "code",
   "execution_count": null,
   "metadata": {
    "collapsed": true
   },
   "outputs": [],
   "source": []
  },
  {
   "cell_type": "code",
   "execution_count": null,
   "metadata": {
    "collapsed": true
   },
   "outputs": [],
   "source": []
  }
 ],
 "metadata": {
  "kernelspec": {
   "display_name": "Python 3",
   "language": "python",
   "name": "python3"
  },
  "language_info": {
   "codemirror_mode": {
    "name": "ipython",
    "version": 3
   },
   "file_extension": ".py",
   "mimetype": "text/x-python",
   "name": "python",
   "nbconvert_exporter": "python",
   "pygments_lexer": "ipython3",
   "version": "3.6.3"
  }
 },
 "nbformat": 4,
 "nbformat_minor": 2
}
